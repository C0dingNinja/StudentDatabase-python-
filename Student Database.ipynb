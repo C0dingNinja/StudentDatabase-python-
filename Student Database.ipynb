{
 "cells": [
  {
   "cell_type": "code",
   "execution_count": null,
   "metadata": {},
   "outputs": [
    {
     "name": "stdout",
     "output_type": "stream",
     "text": [
      " Choice 1 = create \n",
      " Choice 2 = read \n",
      " Choice 3 = update \n",
      " Choice 4 = delete\n"
     ]
    }
   ],
   "source": [
    "id_Stud = 0\n",
    "list_Stud = []\n",
    "\n",
    "def create():\n",
    "    global id_Stud\n",
    "    global list_Stud\n",
    "    id_Stud += 1\n",
    "    name = input(\"Enter name:  \")\n",
    "    coll = input(\"Enter coll: \")\n",
    "    branch = input(\"Enter branch: \")\n",
    "    list_Stud.append([name, coll, branch])\n",
    "    \n",
    "def read():\n",
    "    global id_Stud\n",
    "    global list_Stud\n",
    "    try:\n",
    "        print(list_Stud[int(input(\"Enter id: \"))])\n",
    "    \n",
    "    except:\n",
    "        print(\"Student list empty\")\n",
    "        \n",
    "def update():\n",
    "    try:\n",
    "        global id_Stud\n",
    "        global list_Stud\n",
    "        update_Parameter = input(\"Enter the parameter you wish to update: \")\n",
    "        update_Value = input(\"Enter the update\")\n",
    "        update_id = int(input(\"Enter the id of student: \"))\n",
    "        if update_id < 0 or update_id > id_Stud:\n",
    "            print(\"please enter valid id\")\n",
    "        else:\n",
    "            if update_Parameter == \"name\":\n",
    "                list_Stud[update_id][0] = update_Value\n",
    "            elif update_Parameter == \"coll\":\n",
    "                list_Stud[update_id][1] = update_Value\n",
    "            else:\n",
    "                list_Stud[update_id][2] = update_Value\n",
    "    except:\n",
    "        print(\"Student list is empty\")\n",
    "        \n",
    "def delete():\n",
    "    try:\n",
    "        global id_Stud\n",
    "        global list_Stud\n",
    "        del(list_Stud[int(input(\"Enter id you want to delete\"))])\n",
    "    except:\n",
    "        print(\"Student list is empty\")\n",
    "        \n",
    "while True:\n",
    "    print(\" Choice 1 = create \\n Choice 2 = read \\n Choice 3 = update \\n Choice 4 = delete\")\n",
    "\n",
    "    choice = int(input(\"Please enter your choice: \"))\n",
    "\n",
    "    if choice == 1:\n",
    "        create()\n",
    "\n",
    "    elif choice == 2:\n",
    "        read()\n",
    "\n",
    "    elif choice == 3:\n",
    "        update()\n",
    "\n",
    "    elif choice == 4:\n",
    "        delete()\n",
    "\n",
    "    else:\n",
    "        print(\"please enter valid choice and try again\")\n",
    "        break\n"
   ]
  },
  {
   "cell_type": "code",
   "execution_count": null,
   "metadata": {},
   "outputs": [],
   "source": []
  }
 ],
 "metadata": {
  "kernelspec": {
   "display_name": "Python 3",
   "language": "python",
   "name": "python3"
  },
  "language_info": {
   "codemirror_mode": {
    "name": "ipython",
    "version": 3
   },
   "file_extension": ".py",
   "mimetype": "text/x-python",
   "name": "python",
   "nbconvert_exporter": "python",
   "pygments_lexer": "ipython3",
   "version": "3.6.8"
  }
 },
 "nbformat": 4,
 "nbformat_minor": 2
}
